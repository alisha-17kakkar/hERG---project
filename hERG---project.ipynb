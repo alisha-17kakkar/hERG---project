{
  "nbformat": 4,
  "nbformat_minor": 0,
  "metadata": {
    "colab": {
      "provenance": [],
      "authorship_tag": "ABX9TyOHrP5f3r3nqa4lgNgiTwyC",
      "include_colab_link": true
    },
    "kernelspec": {
      "name": "python3",
      "display_name": "Python 3"
    },
    "language_info": {
      "name": "python"
    }
  },
  "cells": [
    {
      "cell_type": "markdown",
      "metadata": {
        "id": "view-in-github",
        "colab_type": "text"
      },
      "source": [
        "<a href=\"https://colab.research.google.com/github/alisha-17kakkar/hERG---project/blob/main/hERG---project.ipynb\" target=\"_parent\"><img src=\"https://colab.research.google.com/assets/colab-badge.svg\" alt=\"Open In Colab\"/></a>"
      ]
    },
    {
      "cell_type": "code",
      "execution_count": null,
      "metadata": {
        "id": "yeVAqZuImx-_"
      },
      "outputs": [],
      "source": [
        "!pip install rdkit-pypi pandas scikit-learn matplotlib chembl_webresource_client"
      ]
    },
    {
      "cell_type": "code",
      "source": [
        "import pandas as pd\n",
        "from chembl_webresource_client.new_client import new_client\n",
        "import os\n",
        "filename = \"herg_activity_data.csv\"\n",
        "if os.path.exists(filename):\n",
        "    print(f\"Loading data from local file: {filename} ...\")\n",
        "    df = pd.read_csv(filename)\n",
        "    print(\"Data loaded instantly!\")\n",
        "else:\n",
        "    print(f\"Local file not found. Downloading data from ChEMBL for the first time...\")\n",
        "    print(\"(This might take a minute or two, but will only happen once.)\")\n",
        "    target = new_client.target\n",
        "    target_query = target.search('herg')\n",
        "    targets = pd.DataFrame.from_dict(target_query)\n",
        "    human_herg_target = targets[targets['target_chembl_id'] == 'CHEMBL240']\n",
        "    target_id = human_herg_target.target_chembl_id.values[0]\n",
        "    activity = new_client.activity\n",
        "    res = activity.filter(target_chembl_id=target_id).filter(standard_type=\"IC50\")\n",
        "    df = pd.DataFrame.from_dict(res)\n",
        "    df.to_csv(filename, index=False)\n",
        "    print(f\"Data downloaded and saved to {filename} for fast future access.\")\n",
        "print(\"-----------------------------------------\")\n",
        "print(f\"Shape of the dataset: {df.shape}\")\n",
        "df.head()"
      ],
      "metadata": {
        "id": "LlsHr5fpqZz1"
      },
      "execution_count": null,
      "outputs": []
    },
    {
      "cell_type": "code",
      "source": [
        "df_clean = df[['canonical_smiles', 'standard_value']]\n",
        "df_clean = df_clean.dropna()\n",
        "df_clean['standard_value'] = pd.to_numeric(df_clean['standard_value'], errors='coerce')\n",
        "df_clean = df_clean.dropna()\n",
        "print(f\"Shape after cleaning: {df_clean.shape}\")\n",
        "df_clean.head()"
      ],
      "metadata": {
        "id": "G-hm__tDrGpk"
      },
      "execution_count": null,
      "outputs": []
    },
    {
      "cell_type": "code",
      "source": [
        "bioactivity_class = []\n",
        "for value in df_clean['standard_value']:\n",
        "  if float(value) <= 10000:\n",
        "    bioactivity_class.append(\"active\")\n",
        "  else:\n",
        "    bioactivity_class.append(\"inactive\")\n",
        "df_clean['bioactivity_class'] = bioactivity_class\n",
        "print(f\"Final shape of our dataset: {df_clean.shape}\")\n",
        "print(\"\\nValue counts for each class:\")\n",
        "print(df_clean['bioactivity_class'].value_counts())\n",
        "df_clean.head()"
      ],
      "metadata": {
        "id": "MTWUOWxlrWYH"
      },
      "execution_count": null,
      "outputs": []
    },
    {
      "cell_type": "code",
      "source": [
        "from rdkit import Chem\n",
        "from rdkit.Chem import AllChem\n",
        "import numpy as np\n",
        "from tqdm.auto import tqdm\n",
        "tqdm.pandas()\n",
        "def generate_fingerprint(smiles_string):\n",
        "    mol = Chem.MolFromSmiles(smiles_string)\n",
        "    if mol is not None:\n",
        "        fp = AllChem.GetMorganFingerprintAsBitVect(mol, 2, nBits=2048)\n",
        "        return list(fp)\n",
        "    else:\n",
        "        return None\n",
        "\n",
        "df_clean['fingerprint'] = df_clean['canonical_smiles'].progress_apply(generate_fingerprint)\n",
        "\n",
        "df_final = df_clean.dropna(subset=['fingerprint']).copy()\n",
        "X = np.array(df_final['fingerprint'].tolist())\n",
        "\n",
        "y = df_final['bioactivity_class']\n",
        "\n",
        "print(\"\\nFingerprint generation complete!\")\n",
        "print(\"Shape of our features (X):\", X.shape)\n",
        "print(\"Shape of our target (y):\", y.shape)"
      ],
      "metadata": {
        "id": "PAEfx29sroHV"
      },
      "execution_count": null,
      "outputs": []
    },
    {
      "cell_type": "code",
      "source": [
        "from sklearn.model_selection import train_test_split\n",
        "from sklearn.ensemble import RandomForestClassifier\n",
        "X_train, X_test, y_train, y_test = train_test_split(X, y, test_size=0.2, random_state=42)\n",
        "model = RandomForestClassifier(n_estimators=100, random_state=42)\n",
        "model.fit(X_train, y_train)\n",
        "print(\"Model training complete!\")\n"
      ],
      "metadata": {
        "id": "kzY6bEKUtA1Z"
      },
      "execution_count": null,
      "outputs": []
    },
    {
      "cell_type": "code",
      "source": [
        "from sklearn.metrics import accuracy_score, classification_report, confusion_matrix\n",
        "import matplotlib.pyplot as plt\n",
        "import seaborn as sns\n",
        "y_pred = model.predict(X_test)\n",
        "accuracy = accuracy_score(y_test, y_pred)\n",
        "print(f\"Model Accuracy: {accuracy * 100:.2f}%\")\n",
        "print(\"\\nClassification Report:\")\n",
        "print(classification_report(y_test, y_pred))\n",
        "print(\"\\nConfusion Matrix:\")\n",
        "cm = confusion_matrix(y_test, y_pred)\n",
        "sns.heatmap(cm, annot=True, fmt='d', cmap='Blues', xticklabels=['active', 'inactive'], yticklabels=['active', 'inactive'])\n",
        "plt.ylabel('Actual')\n",
        "plt.xlabel('Predicted')\n",
        "plt.show()"
      ],
      "metadata": {
        "id": "07mMA_hVtdzA"
      },
      "execution_count": null,
      "outputs": []
    }
  ]
}